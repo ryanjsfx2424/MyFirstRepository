{
 "cells": [
  {
   "cell_type": "code",
   "execution_count": 1,
   "id": "bc723969-86a3-4738-924d-9cfd7004a62a",
   "metadata": {},
   "outputs": [
    {
     "data": {
      "text/plain": [
       "\"\\nThe purpose of this script is to simulate the international space station's (ISS) orbit around Earth.\\n\\nF_g = G*M*m/r^2\\n\""
      ]
     },
     "execution_count": 1,
     "metadata": {},
     "output_type": "execute_result"
    }
   ],
   "source": [
    "\"\"\"\n",
    "The purpose of this script is to simulate the international space station's (ISS) orbit around Earth.\n",
    "\n",
    "F_g = G*M*m/r^2\n",
    "F_c = m*v^2/r\n",
    "F = m*a\n",
    "\n",
    "David tasks:\n",
    " - simulate ISS at 0.5*v_circular\n",
    " - simulate ISS at 1.2*v_circular\n",
    " - simulate a rocket at 2*v_circular\n",
    "\"\"\""
   ]
  },
  {
   "cell_type": "code",
   "execution_count": 2,
   "id": "412e7da3-f315-43aa-9840-9ef3bf94372e",
   "metadata": {},
   "outputs": [
    {
     "name": "stderr",
     "output_type": "stream",
     "text": [
      "/home/ryanjsfx/.local/lib/python3.10/site-packages/matplotlib/projections/__init__.py:63: UserWarning: Unable to import Axes3D. This may be due to multiple versions of Matplotlib being installed (e.g. as a system package and as a pip package). As a result, the 3D projection is not available.\n",
      "  warnings.warn(\"Unable to import Axes3D. This may be due to multiple versions of \"\n"
     ]
    }
   ],
   "source": [
    "import numpy as np\n",
    "import matplotlib.pyplot as plt"
   ]
  },
  {
   "cell_type": "code",
   "execution_count": 7,
   "id": "099d3a2f-df34-4bb7-b075-8fc563bdbfbc",
   "metadata": {},
   "outputs": [],
   "source": [
    "NT = 100\n",
    "times = np.zeros(NT)\n",
    "ISS_distances = np.zeros(NT)\n",
    "ISS_velocities = np.zeros(NT)\n",
    "ISS_accelerations = np.zeros(NT)"
   ]
  },
  {
   "cell_type": "code",
   "execution_count": null,
   "id": "8322db2d-02db-4bd0-88cf-74f265d773cc",
   "metadata": {},
   "outputs": [],
   "source": [
    "ISS_altitude = 4.09e5 # meters\n",
    "Earth_radius = 6.37e6 # meters\n",
    "G =\n",
    "Earth_mass = "
   ]
  },
  {
   "cell_type": "code",
   "execution_count": 8,
   "id": "108aa5b9-8683-45da-9bce-06241c0dd963",
   "metadata": {},
   "outputs": [
    {
     "ename": "NameError",
     "evalue": "name 'G' is not defined",
     "output_type": "error",
     "traceback": [
      "\u001b[0;31m---------------------------------------------------------------------------\u001b[0m",
      "\u001b[0;31mNameError\u001b[0m                                 Traceback (most recent call last)",
      "Cell \u001b[0;32mIn[8], line 20\u001b[0m\n\u001b[1;32m      4\u001b[0m ISS_distances[\u001b[38;5;241m0\u001b[39m] \u001b[38;5;241m=\u001b[39m ISS_altitude \u001b[38;5;241m+\u001b[39m Earth_radius\n\u001b[1;32m      6\u001b[0m \u001b[38;5;66;03m## for perfectly circular orbits, Fg = Fc\u001b[39;00m\n\u001b[1;32m      7\u001b[0m \u001b[38;5;66;03m## -G*M*m / r^2 = -m*v^2/r\u001b[39;00m\n\u001b[1;32m      8\u001b[0m \u001b[38;5;66;03m## G*M / r^2 = v^2/r\u001b[39;00m\n\u001b[0;32m   (...)\u001b[0m\n\u001b[1;32m     17\u001b[0m \u001b[38;5;66;03m## 1/2 m v_esc^2 = -G*M*m/r\u001b[39;00m\n\u001b[1;32m     18\u001b[0m \u001b[38;5;66;03m## v_esc^2 = sqrt(2*G*M/r)\u001b[39;00m\n\u001b[0;32m---> 20\u001b[0m ISS_velocities[\u001b[38;5;241m0\u001b[39m] \u001b[38;5;241m=\u001b[39m np\u001b[38;5;241m.\u001b[39msqrt(\u001b[43mG\u001b[49m\u001b[38;5;241m*\u001b[39mM\u001b[38;5;241m/\u001b[39mr)\n",
      "\u001b[0;31mNameError\u001b[0m: name 'G' is not defined"
     ]
    }
   ],
   "source": [
    "\n",
    "\n",
    "ISS_distances[0] = ISS_altitude + Earth_radius\n",
    "\n",
    "## for perfectly circular orbits, Fg = Fc\n",
    "## -G*M*m / r^2 = -m*v^2/r\n",
    "## G*M / r^2 = v^2/r\n",
    "## G*M = v^2 * r\n",
    "## v^2 = G*M / r\n",
    "## v_circular = sqrt(G*M / r)\n",
    "## v_escape: KE = PE\n",
    "## KE = 1/2 * m_iss * v_iss^2\n",
    "## PE = -G*M*m/r\n",
    "## KE + PE = 0\n",
    "## KE = -PE\n",
    "## 1/2 m v_esc^2 = -G*M*m/r\n",
    "## v_esc^2 = sqrt(2*G*M/r)\n",
    "\n",
    "ISS_velocities[0] = np.sqrt(G*M/r)"
   ]
  },
  {
   "cell_type": "code",
   "execution_count": null,
   "id": "02b71cdf-7215-4898-8794-2016379aacbf",
   "metadata": {},
   "outputs": [],
   "source": [
    "def update_distance(time, previous_distance, previous_velocity, acceleration):\n",
    "    pass"
   ]
  }
 ],
 "metadata": {
  "kernelspec": {
   "display_name": "Python 3 (ipykernel)",
   "language": "python",
   "name": "python3"
  },
  "language_info": {
   "codemirror_mode": {
    "name": "ipython",
    "version": 3
   },
   "file_extension": ".py",
   "mimetype": "text/x-python",
   "name": "python",
   "nbconvert_exporter": "python",
   "pygments_lexer": "ipython3",
   "version": "3.10.12"
  }
 },
 "nbformat": 4,
 "nbformat_minor": 5
}
