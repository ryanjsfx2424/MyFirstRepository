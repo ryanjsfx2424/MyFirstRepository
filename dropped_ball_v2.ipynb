{
 "cells": [
  {
   "cell_type": "code",
   "execution_count": 1,
   "id": "6dc840d6-21c1-486b-948f-cee18c272760",
   "metadata": {},
   "outputs": [
    {
     "data": {
      "text/plain": [
       "'\\n1. Implement goal kick problem (due Wednesday)\\n2. Include additional z-accelerations based on actual objects (goal is 10 total) [due Friday]\\n3. Add colorbar label of destroyed and survived (instead of 1, 2) [due Friday]\\n4. Add a second heatmap with colors related to the final velocity (instead of survived/destroyed) [due Monday]\\n5. Play with colormaps [due Monday]\\n'"
      ]
     },
     "execution_count": 1,
     "metadata": {},
     "output_type": "execute_result"
    }
   ],
   "source": [
    "## TODO\n",
    "\"\"\"\n",
    "1. Implement goal kick problem (due Wednesday)\n",
    "2. Include additional z-accelerations based on actual objects (goal is 10 total) [due Friday]\n",
    "3. Add colorbar label of destroyed and survived (instead of 1, 2) [due Friday]\n",
    "4. Add a second heatmap with colors related to the final velocity (instead of survived/destroyed) [due Monday]\n",
    "5. Play with colormaps [due Monday]\n",
    "\"\"\" "
   ]
  },
  {
   "cell_type": "code",
   "execution_count": 2,
   "id": "ae65a5ac",
   "metadata": {},
   "outputs": [
    {
     "name": "stderr",
     "output_type": "stream",
     "text": [
      "/home/ryanjsfx/.local/lib/python3.10/site-packages/matplotlib/projections/__init__.py:63: UserWarning: Unable to import Axes3D. This may be due to multiple versions of Matplotlib being installed (e.g. as a system package and as a pip package). As a result, the 3D projection is not available.\n",
      "  warnings.warn(\"Unable to import Axes3D. This may be due to multiple versions of \"\n"
     ]
    }
   ],
   "source": [
    "import numpy as np\n",
    "import matplotlib.pyplot as plt"
   ]
  },
  {
   "cell_type": "code",
   "execution_count": 3,
   "id": "ff0405d6-548e-4983-97ad-7a4dc4f3fc92",
   "metadata": {},
   "outputs": [],
   "source": [
    "NewtonG = 6.67e-11 # m^3 kg^-1 s^-2 [N m^2 kg^-2]\n",
    "gravEarth = 9.8 # m/s^2 gravitational acceleration close to Earth's surface"
   ]
  },
  {
   "cell_type": "code",
   "execution_count": 4,
   "id": "e5f861b1-9d23-4213-aac9-1ed276515610",
   "metadata": {},
   "outputs": [],
   "source": [
    "class GravitySolver:\n",
    "    def __init__(self, dt, problem_type, NT, posxI, posyI, poszI, velxI, velyI, velzI, accxI, accyI, acczI):\n",
    "        self.problem_type = problem_type\n",
    "        self.dt = dt\n",
    "        self.NT = NT\n",
    "\n",
    "        if problem_type == \"SurfaceProblem\" and acczI > 0:\n",
    "            raise ValueError(\"z acceleration must be negative!\")\n",
    "        \n",
    "        self.init_arrays()\n",
    "        self.set_initial_conditions(posxI, posyI, poszI, velxI, velyI, velzI, accxI, accyI, acczI)\n",
    "\n",
    "        self.simulate()\n",
    "        self.clean_data()\n",
    "        self.save_results()\n",
    "        #self.plot_simulation(self.posz, self.velz, self.accz)\n",
    "        \n",
    "    def init_arrays(self):\n",
    "        #self.data = np.zeros((?, NT))\n",
    "        self.time = np.zeros(self.NT)\n",
    "        self.posx = np.zeros(self.NT)\n",
    "        self.posy = np.zeros(self.NT)\n",
    "        self.posz = np.zeros(self.NT)\n",
    "\n",
    "        self.velx = np.zeros(self.NT)\n",
    "        self.vely = np.zeros(self.NT)\n",
    "        self.velz = np.zeros(self.NT)\n",
    "\n",
    "        self.accx = np.zeros(self.NT)\n",
    "        self.accy = np.zeros(self.NT)\n",
    "        self.accz = np.zeros(self.NT)\n",
    "\n",
    "    def set_initial_conditions(self, posxI, posyI, poszI, velxI, velyI, velzI, accxI, accyI, acczI):\n",
    "        self.posx[0] = posxI\n",
    "        self.posy[0] = posyI\n",
    "        self.posz[0] = poszI\n",
    "\n",
    "        self.velx[0] = velxI\n",
    "        self.vely[0] = velyI\n",
    "        self.velz[0] = velzI\n",
    "\n",
    "        self.accx[0] = accxI\n",
    "        self.accy[0] = accyI\n",
    "        self.accz[0] = acczI\n",
    "\n",
    "    def update_time(self, index):\n",
    "        return self.time[index-1] + self.dt\n",
    "    \n",
    "    def update_posx(self):\n",
    "        pass\n",
    "\n",
    "    def update_posy(self):\n",
    "        pass\n",
    "\n",
    "    def update_posz_theoretical(self, index):\n",
    "        if problem_type == \"SurfaceProblem\":\n",
    "            return self.posz[0] + self.velz[0]*self.time[index] + \\\n",
    "                   0.5 * self.accz[index-1] * self.time[index]**2\n",
    "\n",
    "    def update_posz(self, index):        \n",
    "        return self.posz[index-1] + self.velz[index-1]*(self.dt) + \\\n",
    "               0.5 * self.accz[index-1] * (self.dt)**2\n",
    "        \n",
    "    def update_velx(self):\n",
    "        pass\n",
    "\n",
    "    def update_vely(self):\n",
    "        pass\n",
    "\n",
    "    def update_velz_theoretical(self, index):\n",
    "        if problem_type == \"SurfaceProblem\":\n",
    "            return self.velz[0] + self.accz[index-1] * self.time[index]\n",
    "\n",
    "    def update_velz(self, index):\n",
    "        return self.velz[index-1] + self.accz[index-1] * (self.dt)\n",
    "        \n",
    "    def update_accx(self):\n",
    "        pass\n",
    "\n",
    "    def update_accy(self):\n",
    "        pass\n",
    "\n",
    "    def update_accz(self):\n",
    "        if problem_type == \"SurfaceProblem\":\n",
    "            return self.accz[0]\n",
    "            \n",
    "    def simulate(self):\n",
    "        for index in range(1,self.NT):\n",
    "            self.time[index] = self.update_time(index)\n",
    "            self.posx[index] = self.update_posx()\n",
    "            self.posy[index] = self.update_posy()\n",
    "            self.posz[index] = self.update_posz(index)\n",
    "\n",
    "            self.velx[index] = self.update_velx()\n",
    "            self.vely[index] = self.update_vely()\n",
    "            self.velz[index] = self.update_velz(index)\n",
    "\n",
    "            self.accx[index] = self.update_accx()\n",
    "            self.accy[index] = self.update_accy()\n",
    "            self.accz[index] = self.update_accz()\n",
    "            \n",
    "            if self.problem_type == \"SurfaceProblem\" and self.posz[index] <= 0:\n",
    "                break\n",
    "\n",
    "        if self.posz[-1] > 0:\n",
    "            raise ValueError(\"Object did not hit the ground!\")\n",
    "        \n",
    "\n",
    "    def clean_data(self):\n",
    "        indices = np.where(self.time > 0)[0]\n",
    "\n",
    "        self.time = np.append(self.time[0], self.time[indices])\n",
    "        \n",
    "        self.posx = np.append(self.posx[0], self.posx[indices])\n",
    "        self.posy = np.append(self.posy[0], self.posy[indices])\n",
    "        self.posz = np.append(self.posz[0], self.posz[indices])\n",
    "\n",
    "        self.velx = np.append(self.velx[0], self.velx[indices])\n",
    "        self.vely = np.append(self.vely[0], self.vely[indices])\n",
    "        self.velz = np.append(self.velz[0], self.velz[indices])\n",
    "\n",
    "        self.accx = np.append(self.accx[0], self.accx[indices])\n",
    "        self.accy = np.append(self.accy[0], self.accy[indices])\n",
    "        self.accz = np.append(self.accz[0], self.accz[indices])\n",
    "\n",
    "    def save_results(self):\n",
    "        data = [self.time, self.posx, self.posy, self.posz, self.velx, self.vely, self.velz,\n",
    "                self.accx, self.accy, self.accz]\n",
    "        filename = \"posz0_\" + str(self.posz[0]) + \"_accz0_\" + str(self.accz[0]) + \\\n",
    "                    \"_dt_\" + str(self.time[1] - self.time[0]) + \"_NT_\" + str(self.dt) + \".npz\"\n",
    "            \n",
    "        np.savez_compressed(filename, data)\n",
    "        \n",
    "    def plot_simulation(self, posz, velz, accz):\n",
    "        fig,axs = plt.subplots(3)\n",
    "\n",
    "        yvalues = [posz, velz, accz]\n",
    "        ylabels = [\"z-position [m]\", \"z-velocity [m/s]\", r\"z-acceleration [m/s$^2$]\"]\n",
    "        for index in range(len(yvalues)):\n",
    "            axs[index].plot(self.time, yvalues[index])\n",
    "            axs[index].set_ylabel(ylabels[index])\n",
    "\n",
    "        axs[0].set_xlabel(\"time [s]\")\n",
    "        plt.show()\n",
    "        self.the_plot = plt.gca()"
   ]
  },
  {
   "cell_type": "code",
   "execution_count": 5,
   "id": "c2a9a540-fe3d-47a1-9f54-90029b550f14",
   "metadata": {},
   "outputs": [],
   "source": [
    "dt = 0.1\n",
    "problem_type = \"SurfaceProblem\"\n",
    "NT = 100\n",
    "posxI = 0\n",
    "posyI = 0\n",
    "poszI = 15 # meters\n",
    "velxI = 0\n",
    "velyI = 0\n",
    "velzI = 0\n",
    "accxI = 0\n",
    "accyI = 0\n",
    "acczI = -9.8"
   ]
  },
  {
   "cell_type": "code",
   "execution_count": 6,
   "id": "21cfe333-516a-47bb-b46e-ea3bb9dca425",
   "metadata": {},
   "outputs": [],
   "source": [
    "gravitySolverObject = GravitySolver(dt, problem_type, NT, posxI, posyI, poszI, velxI, velyI, velzI, accxI, accyI, acczI)\n",
    "#gravitySolverObject.the_plot.savefig(\"dropped_ball_v2.png\")\n",
    "#gravitySolverObject.the_plot.close()"
   ]
  },
  {
   "cell_type": "code",
   "execution_count": 7,
   "id": "1415e044-d92d-458a-b59d-fe698572ee8d",
   "metadata": {},
   "outputs": [
    {
     "name": "stdout",
     "output_type": "stream",
     "text": [
      "dts:  [1.00000000e-03 2.43414702e-03 5.92507173e-03 1.44224957e-02\n",
      " 3.51064750e-02 8.54543215e-02 2.08008382e-01 5.06322984e-01\n",
      " 1.23246459e+00 3.00000000e+00]\n",
      "NTs:  [1.00000000e+04 4.10821528e+03 1.68774328e+03 6.93361274e+02\n",
      " 2.84847738e+02 1.17021583e+02 4.80749857e+01 1.97502391e+01\n",
      " 8.11382341e+00 3.33333333e+00]\n"
     ]
    }
   ],
   "source": [
    "## convergence study\n",
    "tsim = NT*dt\n",
    "dts = np.logspace(np.log10(1e-3), np.log10(3), 10) #[1e-3, 1e-2, 0.1, 10]\n",
    "NTs = tsim/dts\n",
    "\n",
    "print(\"dts: \", dts)\n",
    "print(\"NTs: \", NTs)\n",
    "\n",
    "gravitySolverObjects = []\n",
    "for i in range(len(dts)):\n",
    "    gravitySolverObject = GravitySolver(dts[i], problem_type, int(NTs[i]), posxI, posyI, poszI, velxI, velyI, velzI, accxI, accyI, acczI)\n",
    "    gravitySolverObjects.append(gravitySolverObject)"
   ]
  },
  {
   "cell_type": "code",
   "execution_count": 8,
   "id": "8225b189",
   "metadata": {},
   "outputs": [],
   "source": [
    "## L1-norm (absolute error)\n",
    "L1norms = []\n",
    "L2norms = []\n",
    "\n",
    "highResPosz = gravitySolverObjects[0].posz\n",
    "highResTime = gravitySolverObjects[0].time\n",
    "for gravitySolverObject in gravitySolverObjects:\n",
    "    L1norms.append([])\n",
    "    L2norms.append([])\n",
    "    \n",
    "    for ii,time in enumerate(gravitySolverObject.time):\n",
    "        if gravitySolverObject.posz[ii] < 0:\n",
    "            continue\n",
    "\n",
    "        index = np.argmin(np.abs(highResTime - time))\n",
    "        \n",
    "        L1norm = np.abs( gravitySolverObject.posz[ii] - highResPosz[index] )\n",
    "        L2norm = L1norm / highResPosz[index]\n",
    "\n",
    "        L1norms[-1].append(L1norm)\n",
    "        L2norms[-1].append(L2norm)\n",
    "    \n",
    "#print(L2norms)"
   ]
  },
  {
   "cell_type": "code",
   "execution_count": 9,
   "id": "05aba325-1a24-4a32-be04-5c08e7816715",
   "metadata": {},
   "outputs": [
    {
     "ename": "ValueError",
     "evalue": "x and y must have same first dimension, but have shapes (10,) and (9,)",
     "output_type": "error",
     "traceback": [
      "\u001b[0;31m---------------------------------------------------------------------------\u001b[0m",
      "\u001b[0;31mValueError\u001b[0m                                Traceback (most recent call last)",
      "Cell \u001b[0;32mIn[9], line 15\u001b[0m\n\u001b[1;32m     13\u001b[0m L2norm_meds \u001b[38;5;241m=\u001b[39m L2norm_meds[\u001b[38;5;241m1\u001b[39m:]\n\u001b[1;32m     14\u001b[0m fig,axs \u001b[38;5;241m=\u001b[39m plt\u001b[38;5;241m.\u001b[39msubplots(\u001b[38;5;241m2\u001b[39m)\n\u001b[0;32m---> 15\u001b[0m \u001b[43maxs\u001b[49m\u001b[43m[\u001b[49m\u001b[38;5;241;43m0\u001b[39;49m\u001b[43m]\u001b[49m\u001b[38;5;241;43m.\u001b[39;49m\u001b[43mloglog\u001b[49m\u001b[43m(\u001b[49m\u001b[43mNTs\u001b[49m\u001b[43m,\u001b[49m\u001b[43m \u001b[49m\u001b[43mL1norm_maxs\u001b[49m\u001b[43m)\u001b[49m\n\u001b[1;32m     16\u001b[0m axs[\u001b[38;5;241m1\u001b[39m]\u001b[38;5;241m.\u001b[39mloglog(NTs, L2norm_meds)\n\u001b[1;32m     17\u001b[0m axs[\u001b[38;5;241m1\u001b[39m]\u001b[38;5;241m.\u001b[39mset_xlabel(\u001b[38;5;124m\"\u001b[39m\u001b[38;5;124mNumber of Time Steps\u001b[39m\u001b[38;5;124m\"\u001b[39m)\n",
      "File \u001b[0;32m~/.local/lib/python3.10/site-packages/matplotlib/axes/_axes.py:1865\u001b[0m, in \u001b[0;36mAxes.loglog\u001b[0;34m(self, *args, **kwargs)\u001b[0m\n\u001b[1;32m   1861\u001b[0m dy \u001b[38;5;241m=\u001b[39m {k: v \u001b[38;5;28;01mfor\u001b[39;00m k, v \u001b[38;5;129;01min\u001b[39;00m kwargs\u001b[38;5;241m.\u001b[39mitems()\n\u001b[1;32m   1862\u001b[0m       \u001b[38;5;28;01mif\u001b[39;00m k \u001b[38;5;129;01min\u001b[39;00m [\u001b[38;5;124m'\u001b[39m\u001b[38;5;124mbase\u001b[39m\u001b[38;5;124m'\u001b[39m, \u001b[38;5;124m'\u001b[39m\u001b[38;5;124msubs\u001b[39m\u001b[38;5;124m'\u001b[39m, \u001b[38;5;124m'\u001b[39m\u001b[38;5;124mnonpositive\u001b[39m\u001b[38;5;124m'\u001b[39m,\n\u001b[1;32m   1863\u001b[0m                \u001b[38;5;124m'\u001b[39m\u001b[38;5;124mbasey\u001b[39m\u001b[38;5;124m'\u001b[39m, \u001b[38;5;124m'\u001b[39m\u001b[38;5;124msubsy\u001b[39m\u001b[38;5;124m'\u001b[39m, \u001b[38;5;124m'\u001b[39m\u001b[38;5;124mnonposy\u001b[39m\u001b[38;5;124m'\u001b[39m]}\n\u001b[1;32m   1864\u001b[0m \u001b[38;5;28mself\u001b[39m\u001b[38;5;241m.\u001b[39mset_yscale(\u001b[38;5;124m'\u001b[39m\u001b[38;5;124mlog\u001b[39m\u001b[38;5;124m'\u001b[39m, \u001b[38;5;241m*\u001b[39m\u001b[38;5;241m*\u001b[39mdy)\n\u001b[0;32m-> 1865\u001b[0m \u001b[38;5;28;01mreturn\u001b[39;00m \u001b[38;5;28;43mself\u001b[39;49m\u001b[38;5;241;43m.\u001b[39;49m\u001b[43mplot\u001b[49m\u001b[43m(\u001b[49m\n\u001b[1;32m   1866\u001b[0m \u001b[43m    \u001b[49m\u001b[38;5;241;43m*\u001b[39;49m\u001b[43margs\u001b[49m\u001b[43m,\u001b[49m\u001b[43m \u001b[49m\u001b[38;5;241;43m*\u001b[39;49m\u001b[38;5;241;43m*\u001b[39;49m\u001b[43m{\u001b[49m\u001b[43mk\u001b[49m\u001b[43m:\u001b[49m\u001b[43m \u001b[49m\u001b[43mv\u001b[49m\u001b[43m \u001b[49m\u001b[38;5;28;43;01mfor\u001b[39;49;00m\u001b[43m \u001b[49m\u001b[43mk\u001b[49m\u001b[43m,\u001b[49m\u001b[43m \u001b[49m\u001b[43mv\u001b[49m\u001b[43m \u001b[49m\u001b[38;5;129;43;01min\u001b[39;49;00m\u001b[43m \u001b[49m\u001b[43mkwargs\u001b[49m\u001b[38;5;241;43m.\u001b[39;49m\u001b[43mitems\u001b[49m\u001b[43m(\u001b[49m\u001b[43m)\u001b[49m\u001b[43m \u001b[49m\u001b[38;5;28;43;01mif\u001b[39;49;00m\u001b[43m \u001b[49m\u001b[43mk\u001b[49m\u001b[43m \u001b[49m\u001b[38;5;129;43;01mnot\u001b[39;49;00m\u001b[43m \u001b[49m\u001b[38;5;129;43;01min\u001b[39;49;00m\u001b[43m \u001b[49m\u001b[43m{\u001b[49m\u001b[38;5;241;43m*\u001b[39;49m\u001b[43mdx\u001b[49m\u001b[43m,\u001b[49m\u001b[43m \u001b[49m\u001b[38;5;241;43m*\u001b[39;49m\u001b[43mdy\u001b[49m\u001b[43m}\u001b[49m\u001b[43m}\u001b[49m\u001b[43m)\u001b[49m\n",
      "File \u001b[0;32m~/.local/lib/python3.10/site-packages/matplotlib/axes/_axes.py:1724\u001b[0m, in \u001b[0;36mAxes.plot\u001b[0;34m(self, scalex, scaley, data, *args, **kwargs)\u001b[0m\n\u001b[1;32m   1481\u001b[0m \u001b[38;5;250m\u001b[39m\u001b[38;5;124;03m\"\"\"\u001b[39;00m\n\u001b[1;32m   1482\u001b[0m \u001b[38;5;124;03mPlot y versus x as lines and/or markers.\u001b[39;00m\n\u001b[1;32m   1483\u001b[0m \n\u001b[0;32m   (...)\u001b[0m\n\u001b[1;32m   1721\u001b[0m \u001b[38;5;124;03m(``'green'``) or hex strings (``'#008000'``).\u001b[39;00m\n\u001b[1;32m   1722\u001b[0m \u001b[38;5;124;03m\"\"\"\u001b[39;00m\n\u001b[1;32m   1723\u001b[0m kwargs \u001b[38;5;241m=\u001b[39m cbook\u001b[38;5;241m.\u001b[39mnormalize_kwargs(kwargs, mlines\u001b[38;5;241m.\u001b[39mLine2D)\n\u001b[0;32m-> 1724\u001b[0m lines \u001b[38;5;241m=\u001b[39m [\u001b[38;5;241m*\u001b[39m\u001b[38;5;28mself\u001b[39m\u001b[38;5;241m.\u001b[39m_get_lines(\u001b[38;5;28mself\u001b[39m, \u001b[38;5;241m*\u001b[39margs, data\u001b[38;5;241m=\u001b[39mdata, \u001b[38;5;241m*\u001b[39m\u001b[38;5;241m*\u001b[39mkwargs)]\n\u001b[1;32m   1725\u001b[0m \u001b[38;5;28;01mfor\u001b[39;00m line \u001b[38;5;129;01min\u001b[39;00m lines:\n\u001b[1;32m   1726\u001b[0m     \u001b[38;5;28mself\u001b[39m\u001b[38;5;241m.\u001b[39madd_line(line)\n",
      "File \u001b[0;32m~/.local/lib/python3.10/site-packages/matplotlib/axes/_base.py:303\u001b[0m, in \u001b[0;36m_process_plot_var_args.__call__\u001b[0;34m(self, axes, data, *args, **kwargs)\u001b[0m\n\u001b[1;32m    301\u001b[0m     this \u001b[38;5;241m+\u001b[39m\u001b[38;5;241m=\u001b[39m args[\u001b[38;5;241m0\u001b[39m],\n\u001b[1;32m    302\u001b[0m     args \u001b[38;5;241m=\u001b[39m args[\u001b[38;5;241m1\u001b[39m:]\n\u001b[0;32m--> 303\u001b[0m \u001b[38;5;28;01myield from\u001b[39;00m \u001b[38;5;28;43mself\u001b[39;49m\u001b[38;5;241;43m.\u001b[39;49m\u001b[43m_plot_args\u001b[49m\u001b[43m(\u001b[49m\n\u001b[1;32m    304\u001b[0m \u001b[43m    \u001b[49m\u001b[43maxes\u001b[49m\u001b[43m,\u001b[49m\u001b[43m \u001b[49m\u001b[43mthis\u001b[49m\u001b[43m,\u001b[49m\u001b[43m \u001b[49m\u001b[43mkwargs\u001b[49m\u001b[43m,\u001b[49m\u001b[43m \u001b[49m\u001b[43mambiguous_fmt_datakey\u001b[49m\u001b[38;5;241;43m=\u001b[39;49m\u001b[43mambiguous_fmt_datakey\u001b[49m\u001b[43m)\u001b[49m\n",
      "File \u001b[0;32m~/.local/lib/python3.10/site-packages/matplotlib/axes/_base.py:499\u001b[0m, in \u001b[0;36m_process_plot_var_args._plot_args\u001b[0;34m(self, axes, tup, kwargs, return_kwargs, ambiguous_fmt_datakey)\u001b[0m\n\u001b[1;32m    496\u001b[0m     axes\u001b[38;5;241m.\u001b[39myaxis\u001b[38;5;241m.\u001b[39mupdate_units(y)\n\u001b[1;32m    498\u001b[0m \u001b[38;5;28;01mif\u001b[39;00m x\u001b[38;5;241m.\u001b[39mshape[\u001b[38;5;241m0\u001b[39m] \u001b[38;5;241m!=\u001b[39m y\u001b[38;5;241m.\u001b[39mshape[\u001b[38;5;241m0\u001b[39m]:\n\u001b[0;32m--> 499\u001b[0m     \u001b[38;5;28;01mraise\u001b[39;00m \u001b[38;5;167;01mValueError\u001b[39;00m(\u001b[38;5;124mf\u001b[39m\u001b[38;5;124m\"\u001b[39m\u001b[38;5;124mx and y must have same first dimension, but \u001b[39m\u001b[38;5;124m\"\u001b[39m\n\u001b[1;32m    500\u001b[0m                      \u001b[38;5;124mf\u001b[39m\u001b[38;5;124m\"\u001b[39m\u001b[38;5;124mhave shapes \u001b[39m\u001b[38;5;132;01m{\u001b[39;00mx\u001b[38;5;241m.\u001b[39mshape\u001b[38;5;132;01m}\u001b[39;00m\u001b[38;5;124m and \u001b[39m\u001b[38;5;132;01m{\u001b[39;00my\u001b[38;5;241m.\u001b[39mshape\u001b[38;5;132;01m}\u001b[39;00m\u001b[38;5;124m\"\u001b[39m)\n\u001b[1;32m    501\u001b[0m \u001b[38;5;28;01mif\u001b[39;00m x\u001b[38;5;241m.\u001b[39mndim \u001b[38;5;241m>\u001b[39m \u001b[38;5;241m2\u001b[39m \u001b[38;5;129;01mor\u001b[39;00m y\u001b[38;5;241m.\u001b[39mndim \u001b[38;5;241m>\u001b[39m \u001b[38;5;241m2\u001b[39m:\n\u001b[1;32m    502\u001b[0m     \u001b[38;5;28;01mraise\u001b[39;00m \u001b[38;5;167;01mValueError\u001b[39;00m(\u001b[38;5;124mf\u001b[39m\u001b[38;5;124m\"\u001b[39m\u001b[38;5;124mx and y can be no greater than 2D, but have \u001b[39m\u001b[38;5;124m\"\u001b[39m\n\u001b[1;32m    503\u001b[0m                      \u001b[38;5;124mf\u001b[39m\u001b[38;5;124m\"\u001b[39m\u001b[38;5;124mshapes \u001b[39m\u001b[38;5;132;01m{\u001b[39;00mx\u001b[38;5;241m.\u001b[39mshape\u001b[38;5;132;01m}\u001b[39;00m\u001b[38;5;124m and \u001b[39m\u001b[38;5;132;01m{\u001b[39;00my\u001b[38;5;241m.\u001b[39mshape\u001b[38;5;132;01m}\u001b[39;00m\u001b[38;5;124m\"\u001b[39m)\n",
      "\u001b[0;31mValueError\u001b[0m: x and y must have same first dimension, but have shapes (10,) and (9,)"
     ]
    },
    {
     "data": {
      "image/png": "[encoded data removed]",
      "text/plain": [
       "<Figure size 640x480 with 2 Axes>"
      ]
     },
     "metadata": {},
     "output_type": "display_data"
    }
   ],
   "source": [
    "L1norm_maxs = []\n",
    "L2norm_meds = []\n",
    "for ii in range(len(L1norms)):\n",
    "    L1norm = L1norms[ii]\n",
    "    L2norm = L2norms[ii]\n",
    "    L1norm = np.array(L1norm)\n",
    "    L1norm_maxs.append(np.max(L1norm))\n",
    "    L2norm = np.array(L2norm)\n",
    "    L2norm_meds.append(np.median(L2norm))\n",
    "\n",
    "#NTs = NTs[1:]\n",
    "L1norm_maxs = L1norm_maxs[1:]\n",
    "L2norm_meds = L2norm_meds[1:]\n",
    "fig,axs = plt.subplots(2)\n",
    "axs[0].loglog(NTs, L1norm_maxs)\n",
    "axs[1].loglog(NTs, L2norm_meds)\n",
    "axs[1].set_xlabel(\"Number of Time Steps\")\n",
    "axs[0].set_ylabel(\"max L1 norm\")\n",
    "axs[1].set_ylabel(\"median L2 norm\")"
   ]
  },
  {
   "cell_type": "code",
   "execution_count": 10,
   "id": "31d7e453-83b9-4584-a964-8309d85430e2",
   "metadata": {},
   "outputs": [],
   "source": [
    "class GravitySolver:\n",
    "    def __init__(self, dt, problem_type, NT, dataI):\n",
    "        self.problem_type = problem_type\n",
    "        self.dt = dt\n",
    "        self.NT = NT\n",
    "        \n",
    "        if problem_type == \"SurfaceProblem\" and dataI[-1] > 0:\n",
    "            raise ValueError(\"z acceleration must be negative!\")\n",
    "        \n",
    "        self.init_constants()\n",
    "        self.init_arrays()\n",
    "        self.set_initial_conditions(dataI)\n",
    "\n",
    "        self.simulate()\n",
    "        self.clean_data()\n",
    "        self.save_results()\n",
    "        #self.plot_simulation(self.data[3, :], self.data[6, :], self.data[9, :])\n",
    "\n",
    "    def init_constants(self):\n",
    "        self.NewtonG = 6.67e-11 # m^3 kg^-1 s^-2 [N m^2 kg^-2]\n",
    "        self.gravEarth = 9.8 # m/s^2 gravitational acceleration close to Earth's surface\n",
    "        \n",
    "    def init_arrays(self):\n",
    "        #self.data = np.zeros((?, NT))\n",
    "        #time = 0, posx = 1, posy = 2, posz = 3, velx = 4, vely = 5, velz = 6, accx = 7, accy = 8, accz = 9\n",
    "        self.data = np.zeros((10, NT))\n",
    "        \n",
    "\n",
    "    def set_initial_conditions(self, dataI):\n",
    "        self.data[1:, 0] = dataI\n",
    "\n",
    "    def update_time(self):\n",
    "        return self.data[0, self.index-1] + self.dt\n",
    "    \n",
    "    def update_posx(self):\n",
    "        pass\n",
    "\n",
    "    def update_posy(self):\n",
    "        pass\n",
    "\n",
    "    def update_posz_theoretical(self):\n",
    "        if problem_type == \"SurfaceProblem\":\n",
    "            return self.data[3, 0] + self.data[6, 0]*self.data[0, self.index] + \\\n",
    "                   0.5 * self.data[10, 0] * self.data[0, self.index]**2\n",
    "\n",
    "    def update_posz(self):\n",
    "        return self.data[3, self.index-1] + self.data[6, self.index-1]*(dt) + \\\n",
    "               0.5 * self.data[9, self.index-1] * (dt)**2\n",
    "        \n",
    "    def update_velx(self):\n",
    "        pass\n",
    "\n",
    "    def update_vely(self):\n",
    "        pass\n",
    "\n",
    "    def update_velz_theoretical(self):\n",
    "        if problem_type == \"SurfaceProblem\":\n",
    "            return self.data[6, 0] + self.data[9, self.index-1] * self.data[0, self.index]\n",
    "\n",
    "    def update_velz(self):\n",
    "        return self.data[6, self.index-1] + self.data[9, self.index-1] * (dt)\n",
    "        \n",
    "    def update_accx(self):\n",
    "        pass\n",
    "    \n",
    "    def update_accy(self):\n",
    "        pass\n",
    "\n",
    "    def update_accz(self):\n",
    "        if problem_type == \"SurfaceProblem\":\n",
    "            return self.data[9, 0]\n",
    "            \n",
    "    def simulate(self):\n",
    "        for index in range(1,self.NT):\n",
    "            self.index = index\n",
    "            list_of_data = [self.update_time, self.update_posx, self.update_posy, self.update_posz, self.update_velx,\n",
    "                           self.update_vely, self.update_velz, self.update_accx, self.update_accy, self.update_accz]\n",
    "           \n",
    "            for jj, function in enumerate(list_of_data):\n",
    "                self.data[jj, self.index] = function()\n",
    "            \n",
    "            if self.problem_type == \"SurfaceProblem\" and self.data[3, self.index] <= 0:\n",
    "                break\n",
    "                \n",
    "        if self.data[3,-1] > 0:\n",
    "            raise ValueError(\"Object did not hit the ground!\")\n",
    "\n",
    "\n",
    "    def clean_data(self):\n",
    "        cleandata = []\n",
    "        indices = np.where(self.data[0, :] > 0)[0]\n",
    "\n",
    "        for i in range (self.data.shape[0]):\n",
    "            cleandata.append(np.append(self.data[i, 0], self.data[i, indices]))\n",
    "            \n",
    "        self.data = cleandata\n",
    "        self.data = np.array(self.data)\n",
    "      \n",
    "\n",
    "    def save_results(self):\n",
    "        filename = \"posz0_\" + str(self.data[3, 0]) + \"_accz0_\" + str(self.data[9, 0]) + \\\n",
    "                    \"_dt_\" + str(self.data[0, 1] - self.data[0, 0]) + \"_NT_\" + str(self.dt) + \".npz\"\n",
    "            \n",
    "        np.savez_compressed(filename, self.data)\n",
    "        \n",
    "    def plot_simulation(self, posz, velz, accz):\n",
    "        fig,axs = plt.subplots(3)\n",
    "\n",
    "        yvalues = [posz, velz, accz]\n",
    "        ylabels = [\"z-position [m]\", \"z-velocity [m/s]\", r\"z-acceleration [m/s$^2$]\"]\n",
    "        for self.index in range(len(yvalues)):\n",
    "            axs[self.index].plot(self.data[0, :], yvalues[self.index])\n",
    "            axs[self.index].set_ylabel(ylabels[self.index])\n",
    "\n",
    "        # axs[0].plot(times, posz)\n",
    "        # axs[1].plot(times, velz)\n",
    "        # axs[2].plot(times, accz)\n",
    "\n",
    "        axs[0].set_xlabel(\"time [s]\")\n",
    "        plt.show()\n",
    "        self.the_plot = plt.gca()"
   ]
  },
  {
   "cell_type": "code",
   "execution_count": 14,
   "id": "7585c475",
   "metadata": {},
   "outputs": [
    {
     "name": "stdout",
     "output_type": "stream",
     "text": [
      "-11.21240612244898\n",
      "survived!\n",
      "survived!\n",
      "survived!\n",
      "destroyed!\n",
      "destroyed!\n",
      "survived!\n",
      "survived!\n",
      "survived!\n",
      "survived!\n",
      "destroyed!\n",
      "survived!\n",
      "survived!\n",
      "survived!\n",
      "survived!\n",
      "destroyed!\n",
      "survived!\n",
      "survived!\n",
      "survived!\n",
      "survived!\n",
      "destroyed!\n",
      "survived!\n",
      "survived!\n",
      "survived!\n",
      "destroyed!\n",
      "destroyed!\n"
     ]
    }
   ],
   "source": [
    "## GOAL: assess survivability of robotic spacecraft making a landing on the surface of a world.\n",
    "# if velocity exceeds 100 m/s\n",
    "\n",
    "## CONSTANTS\n",
    "dt = 0.1\n",
    "problem_type = \"SurfaceProblem\"\n",
    "NT = 10000\n",
    "posxI = 0\n",
    "posyI = 0\n",
    "velxI = 0\n",
    "velyI = 0\n",
    "velzI = 0\n",
    "accxI = 0\n",
    "accyI = 0\n",
    "\n",
    "poszIs = np.logspace(np.log10(1), np.log10(10000), 5)\n",
    "\n",
    "#Fg = G * M * m / r^2\n",
    "#ag = Fg/m = G * M / r^2\n",
    "R_Trappist1c = 7e6 # [meters] radius\n",
    "M_Trappist1c = 8.237e24 # [kg] mass\n",
    "a_Trappist1c = -NewtonG * M_Trappist1c / R_Trappist1c**2\n",
    "print(a_Trappist1c)\n",
    "\n",
    "#         earth, moon,   mars, Io,    Trappist1c\n",
    "acczIs = [-9.8, -1.625, -3.71, -1.81, a_Trappist1c]\n",
    "\n",
    "dataI = [posxI, posyI, poszIs[0], velxI, velyI, velzI, accxI, accyI, acczIs[0]]\n",
    "\n",
    "gravitySolverObjects = []\n",
    "for acczI in acczIs:\n",
    "    dataI[-1] = acczI\n",
    "    for poszI in poszIs:\n",
    "        dataI[2] = poszI\n",
    "        gravitySolverObject = GravitySolver(dt, problem_type, NT, dataI)\n",
    "        gravitySolverObjects.append(gravitySolverObject)\n",
    "        \n",
    "## plot heatmap of survived = green, destroyed = red\n",
    "did_robot_survive = []\n",
    "velz_survival_threshold = -100 # m/s\n",
    "for gravitySolverObject in gravitySolverObjects:\n",
    "    if np.abs(gravitySolverObject.data[6,-1]) >= np.abs(velz_survival_threshold):\n",
    "        did_robot_survive.append(1)\n",
    "        print(\"destroyed!\")\n",
    "    else:\n",
    "        did_robot_survive.append(2)\n",
    "        print(\"survived!\")\n",
    "        \n",
    "did_robot_survive = np.array(did_robot_survive)\n",
    "did_robot_survive = did_robot_survive.reshape((len(poszIs), len(acczIs)))"
   ]
  },
  {
   "cell_type": "code",
   "execution_count": 12,
   "id": "64457b74",
   "metadata": {},
   "outputs": [
    {
     "data": {
      "image/png": "[encoded data removed]",
      "text/plain": [
       "<Figure size 640x480 with 2 Axes>"
      ]
     },
     "metadata": {},
     "output_type": "display_data"
    }
   ],
   "source": [
    "## heatmap v1\n",
    "plt.imshow(did_robot_survive, cmap='hot')\n",
    "plt.colorbar()\n",
    "plt.show()"
   ]
  },
  {
   "cell_type": "code",
   "execution_count": 15,
   "id": "9f7b3bab",
   "metadata": {},
   "outputs": [
    {
     "name": "stderr",
     "output_type": "stream",
     "text": [
      "/tmp/ipykernel_221074/1561911479.py:3: UserWarning: The input coordinates to pcolormesh are interpreted as cell centers, but are not monotonically increasing or decreasing. This may lead to incorrectly calculated cell edges, in which case, please supply explicit cell edges to pcolormesh.\n",
      "  plt.pcolormesh(poszIs2D, acczIs2D, did_robot_survive)\n"
     ]
    },
    {
     "data": {
      "image/png": "[encoded data removed]",
      "text/plain": [
       "<Figure size 640x480 with 2 Axes>"
      ]
     },
     "metadata": {},
     "output_type": "display_data"
    }
   ],
   "source": [
    "poszIs2D,acczIs2D = np.meshgrid(poszIs, acczIs)\n",
    "poszIs2D = np.log10(poszIs2D)\n",
    "plt.pcolormesh(poszIs2D, acczIs2D, did_robot_survive)\n",
    "plt.xlabel(r\"log$_{10}$ (height dropped) [m]\")\n",
    "plt.ylabel(r\"acceleration [m/s$^2$]\")\n",
    "cbar = plt.colorbar()"
   ]
  },
  {
   "cell_type": "code",
   "execution_count": null,
   "id": "2328a98d",
   "metadata": {},
   "outputs": [],
   "source": [
    "poszIs2D,acczIs2D = np.meshgrid(poszIs, acczIs)\n",
    "plt.pcolormesh(poszIs2D, acczIs2D, did_robot_survive)\n",
    "plt.xlabel(\"height dropped [m]\")\n",
    "plt.ylabel(r\"acceleration [m/s$^2$]\")\n",
    "plt.xscale(\"log\")\n",
    "cbar = plt.colorbar()"
   ]
  },
  {
   "cell_type": "code",
   "execution_count": null,
   "id": "5b560437",
   "metadata": {},
   "outputs": [],
   "source": [
    "print(poszIs)\n",
    "print(acczIs)"
   ]
  },
  {
   "cell_type": "code",
   "execution_count": null,
   "id": "0e337a7e",
   "metadata": {},
   "outputs": [],
   "source": [
    "print(np.log10(poszIs))"
   ]
  },
  {
   "cell_type": "code",
   "execution_count": null,
   "id": "fd423f67",
   "metadata": {},
   "outputs": [],
   "source": [
    "print(np.log10(acczIs))"
   ]
  },
  {
   "cell_type": "code",
   "execution_count": null,
   "id": "bb58d2c2",
   "metadata": {},
   "outputs": [],
   "source": [
    "print(poszIs2D)"
   ]
  },
  {
   "cell_type": "code",
   "execution_count": null,
   "id": "c763240e",
   "metadata": {},
   "outputs": [],
   "source": [
    "print(np.log10(poszIs2D))"
   ]
  },
  {
   "cell_type": "code",
   "execution_count": null,
   "id": "52a82c5a",
   "metadata": {},
   "outputs": [],
   "source": [
    "print(acczIs2D)"
   ]
  },
  {
   "cell_type": "code",
   "execution_count": null,
   "id": "3f15ed1c",
   "metadata": {},
   "outputs": [],
   "source": [
    "print(did_robot_survive)"
   ]
  },
  {
   "cell_type": "code",
   "execution_count": null,
   "id": "03956206",
   "metadata": {},
   "outputs": [],
   "source": [
    "heatmap = np.asarray([[20, 0, 40],\n",
    "                      [0, 40, 40],\n",
    "                      [20, 40, 50]])\n",
    "\n",
    "heatmap_plot = plt.pcolor(heatmap, cmap='RdBu', vmin=0, vmax=100)\n",
    "plt.colorbar()\n",
    "plt.show()"
   ]
  },
  {
   "cell_type": "code",
   "execution_count": null,
   "id": "cd94c6e5",
   "metadata": {},
   "outputs": [],
   "source": []
  }
 ],
 "metadata": {
  "kernelspec": {
   "display_name": "Python 3 (ipykernel)",
   "language": "python",
   "name": "python3"
  },
  "language_info": {
   "codemirror_mode": {
    "name": "ipython",
    "version": 3
   },
   "file_extension": ".py",
   "mimetype": "text/x-python",
   "name": "python",
   "nbconvert_exporter": "python",
   "pygments_lexer": "ipython3",
   "version": "3.10.12"
  }
 },
 "nbformat": 4,
 "nbformat_minor": 5
}
