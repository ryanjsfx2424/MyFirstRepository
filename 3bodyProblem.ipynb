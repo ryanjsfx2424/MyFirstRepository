{
 "cells": [
  {
   "cell_type": "markdown",
   "id": "e49e1486-319f-42d8-acc8-139cf2e1b324",
   "metadata": {},
   "source": [
    "### The purpose of this notebook is to simulate 3 objects interacting gravitationally.\n",
    "\n",
    "- F_g = G*M*m/r^2\n",
    "- F_c = m*v^2/r\n",
    "- F = m*a\n",
    "\n",
    "### For each object, we need to sum the gravitational forces from all other objects"
   ]
  },
  {
   "cell_type": "code",
   "execution_count": 1,
   "id": "412e7da3-f315-43aa-9840-9ef3bf94372e",
   "metadata": {},
   "outputs": [
    {
     "name": "stderr",
     "output_type": "stream",
     "text": [
      "/home/ryanjsfx/.local/lib/python3.10/site-packages/matplotlib/projections/__init__.py:63: UserWarning: Unable to import Axes3D. This may be due to multiple versions of Matplotlib being installed (e.g. as a system package and as a pip package). As a result, the 3D projection is not available.\n",
      "  warnings.warn(\"Unable to import Axes3D. This may be due to multiple versions of \"\n"
     ]
    }
   ],
   "source": [
    "import numpy as np\n",
    "import matplotlib.pyplot as plt"
   ]
  },
  {
   "cell_type": "code",
   "execution_count": 4,
   "id": "9ce6a8b9-00c8-4ecf-a6d5-72d974fcf7a2",
   "metadata": {},
   "outputs": [],
   "source": [
    "dt = 0.6\n",
    "\n",
    "NT = 10000\n",
    "NUMBER_OF_OBJECTS = 3 # Earth, Moon, ISS\n",
    "QUANTITIES = 10 # times, Object_distance, Object_distanceX, Object_distanceY, Object_velocities, Object_velX, Object_velY, \\\n",
    "                # Object_accelerations, Object_accelX, Object_accelY"
   ]
  },
  {
   "cell_type": "code",
   "execution_count": 5,
   "id": "099d3a2f-df34-4bb7-b075-8fc563bdbfbc",
   "metadata": {},
   "outputs": [],
   "source": [
    "data = np.zeros( (NUMBER_OF_OBJECTS, QUANTITIES, NT) )"
   ]
  },
  {
   "cell_type": "code",
   "execution_count": 6,
   "id": "8322db2d-02db-4bd0-88cf-74f265d773cc",
   "metadata": {},
   "outputs": [],
   "source": [
    "ISS_altitude = 4.09e5 # meters\n",
    "Earth_radius = 6.37e6 # meters\n",
    "G = 6.67e-11 # m^3 * kg^-1 * s^-2 [N * m^2 / kg^2]\n",
    "Earth_mass = 5.97e24 # kg\n",
    "ISS_mass = 4.2e5 # 420,000 kg\n",
    "Moon_mass = 7.3e22 # kg\n",
    "Earth_moon_separation = 384e6 # meters"
   ]
  },
  {
   "cell_type": "code",
   "execution_count": 7,
   "id": "1aae2983-6493-4158-a357-d3816fa7d64f",
   "metadata": {},
   "outputs": [],
   "source": [
    "EARTH = 0\n",
    "MOON  = 1\n",
    "ISS   = 2"
   ]
  },
  {
   "cell_type": "code",
   "execution_count": 8,
   "id": "23392373-3fdc-4e99-8f66-59cbacea351e",
   "metadata": {},
   "outputs": [],
   "source": [
    "TIME = 0\n",
    "POSX = 1\n",
    "POSY = 2\n",
    "POST = 3\n",
    "VELX = 4\n",
    "VELY = 5\n",
    "VELT = 6\n",
    "ACCX = 7\n",
    "ACCY = 8\n",
    "ACCT = 9"
   ]
  },
  {
   "cell_type": "code",
   "execution_count": 7,
   "id": "108aa5b9-8683-45da-9bce-06241c0dd963",
   "metadata": {},
   "outputs": [],
   "source": [
    "data[ISS, POST, 0] = ISS_altitude + Earth_radius\n",
    "data[ISS, POSX, 0] = ISS_altitude + Earth_radius\n",
    "data[ISS, VELT, 0] = np.sqrt(G*Earth_mass / data[ISS, POST, 0])\n",
    "data[ISS, VELY, 0] = np.sqrt(G*Earth_mass / data[ISS, POST, 0])\n",
    "data[ISS, ACCT, 0] = G*Earth_mass / data[ISS, POST, 0]**2\n",
    "data[ISS, ACCX, 0] = -G*Earth_mass / data[ISS, POST, 0]**2\n",
    "\n",
    "## TODO: set initial conditions for Moon"
   ]
  },
  {
   "cell_type": "code",
   "execution_count": 8,
   "id": "8f96acb0-ba65-40d2-b3ab-4999ac0df748",
   "metadata": {},
   "outputs": [],
   "source": [
    "def update_accelerationsX(old_index):\n",
    "    return -G*Earth_mass*ISS_distancesX[old_index]/ISS_distances[old_index]**3"
   ]
  },
  {
   "cell_type": "code",
   "execution_count": 9,
   "id": "2382baf8-5036-405a-9f73-d9776f381260",
   "metadata": {},
   "outputs": [],
   "source": [
    "# F_g = G*M*m/r^2 [direction]\n",
    "# sin(theta) = F_g,y / F_g\n",
    "# sin(theta) = y / r\n",
    "# F_g,y = F_g*y/r\n",
    "\n",
    "def update_accelerationsY(old_index):\n",
    "    return -G*Earth_mass*ISS_distancesY[old_index]/ISS_distances[old_index]**3"
   ]
  },
  {
   "cell_type": "code",
   "execution_count": 10,
   "id": "02b71cdf-7215-4898-8794-2016379aacbf",
   "metadata": {},
   "outputs": [],
   "source": [
    "def update_velocitiesX(old_index):\n",
    "    return ISS_velocitiesX[old_index] + ISS_accelerationsX[old_index]*dt"
   ]
  },
  {
   "cell_type": "code",
   "execution_count": 11,
   "id": "9fc39400-21d1-43f4-a898-f8c67de1cb64",
   "metadata": {},
   "outputs": [],
   "source": [
    "def update_velocitiesY(old_index):\n",
    "    return ISS_velocitiesY[old_index] + ISS_accelerationsY[old_index]*dt"
   ]
  },
  {
   "cell_type": "code",
   "execution_count": 12,
   "id": "02d88ebb-5361-4923-b505-0a748ae11f66",
   "metadata": {},
   "outputs": [],
   "source": [
    "def update_distancesX(old_index):\n",
    "    return ISS_distancesX[old_index] + ISS_velocitiesX[old_index]*dt + 0.5*ISS_accelerationsX[old_index]*dt**2"
   ]
  },
  {
   "cell_type": "code",
   "execution_count": 13,
   "id": "cb0d358b-b514-4d70-9162-346b73a8fed7",
   "metadata": {},
   "outputs": [],
   "source": [
    "def update_distancesY(old_index):\n",
    "    return ISS_distancesY[old_index] + ISS_velocitiesY[old_index]*dt + 0.5*ISS_accelerationsY[old_index]*dt**2"
   ]
  },
  {
   "cell_type": "code",
   "execution_count": 14,
   "id": "014cf4d0-83e5-400c-aa67-a50746fe6731",
   "metadata": {},
   "outputs": [],
   "source": [
    "for index in range(1,NT):\n",
    "    times[index] = times[index-1] + dt\n",
    "    \n",
    "    ISS_velocitiesX[   index] = update_velocitiesX(   index-1)\n",
    "    ISS_velocitiesY[   index] = update_velocitiesY(   index-1)\n",
    "    \n",
    "    ISS_distancesX[    index] = update_distancesX(    index-1)\n",
    "    ISS_distancesY[    index] = update_distancesY(    index-1)\n",
    "    \n",
    "    ISS_accelerationsX[index] = update_accelerationsX(index-1)\n",
    "    ISS_accelerationsY[index] = update_accelerationsY(index-1)\n",
    "    \n",
    "    ISS_distances[index]     = np.sqrt(ISS_distancesX[index-1]**2     + ISS_distancesY[index-1]**2)\n",
    "    # print(\"new ISS_distances: \", ISS_distances[index])\n",
    "    # print(\"new ISS_distancesX: \", ISS_distancesX[index])\n",
    "    # print(\"new ISS_distancesY: \", ISS_distancesY[index])\n",
    "    # print(\"old ISS_distances: \", ISS_distances[index-1])\n",
    "    # print(\"old ISS_distancesX: \", ISS_distancesX[index-1])\n",
    "    # print(\"old ISS_distancesY: \", ISS_distancesY[index-1])\n",
    "    # input(\">>\")\n"
   ]
  },
  {
   "cell_type": "code",
   "execution_count": 15,
   "id": "3f5edcab-6be5-48d1-9341-a83a50b7f67b",
   "metadata": {},
   "outputs": [],
   "source": [
    "ISS_distances     = np.sqrt(ISS_distancesX**2     + ISS_distancesY**2)\n",
    "ISS_velocities    = np.sqrt(ISS_velocitiesX**2    + ISS_velocitiesY**2)\n",
    "ISS_accelerations = np.sqrt(ISS_accelerationsX**2 + ISS_accelerationsY**2)"
   ]
  },
  {
   "cell_type": "code",
   "execution_count": 16,
   "id": "ab597c11-f2b7-4e8e-8058-e61d0fa5c347",
   "metadata": {},
   "outputs": [
    {
     "name": "stdout",
     "output_type": "stream",
     "text": [
      "times:  [0.0000e+00 6.0000e-01 1.2000e+00 ... 5.9982e+03 5.9988e+03 5.9994e+03]\n",
      "ISS_distances:  [6779000.         6779000.00000018 6779000.00000287 ... 6865457.65313493\n",
      " 6865458.29676582 6865458.94298452]\n"
     ]
    }
   ],
   "source": [
    "print(\"times: \", times)\n",
    "print(\"ISS_distances: \", ISS_distances)"
   ]
  },
  {
   "cell_type": "code",
   "execution_count": 17,
   "id": "70143dc9-6c48-486f-bd3c-c9b4f4482e97",
   "metadata": {},
   "outputs": [
    {
     "data": {
      "image/png": "[encoded data removed]",
      "text/plain": [
       "<Figure size 640x480 with 1 Axes>"
      ]
     },
     "metadata": {},
     "output_type": "display_data"
    }
   ],
   "source": [
    "plt.plot(times, ISS_distances)\n",
    "plt.xlabel(\"time [seconds]\")\n",
    "plt.ylabel(\"ISS distance from center of Earth [meters]\")\n",
    "plt.show()"
   ]
  },
  {
   "cell_type": "code",
   "execution_count": 18,
   "id": "1b63bab8-7070-4c24-b715-4888d975363e",
   "metadata": {},
   "outputs": [
    {
     "data": {
      "image/png": "[encoded data removed]",
      "text/plain": [
       "<Figure size 640x480 with 1 Axes>"
      ]
     },
     "metadata": {},
     "output_type": "display_data"
    }
   ],
   "source": [
    "plt.plot(ISS_distancesX, ISS_distancesY, \"o\")\n",
    "plt.xlabel(\"x [m]\")\n",
    "plt.ylabel(\"y [m]\")\n",
    "plt.ylim(-ISS_distances[0]*10, ISS_distances[0]*10)\n",
    "plt.xlim(-ISS_distances[0]*10, ISS_distances[0]*10)\n",
    "plt.show()"
   ]
  },
  {
   "cell_type": "code",
   "execution_count": null,
   "id": "693409a7-17b9-499f-911c-a9d27892e7fb",
   "metadata": {},
   "outputs": [],
   "source": [
    "for i in range(NT):\n",
    "    plt.plot(ISS_distancesX[i], ISS_distancesY[i], \"o\")\n",
    "    plt.xlabel(\"x [m]\")\n",
    "    plt.ylabel(\"y [m]\")\n",
    "    plt.ylim(-ISS_distances[0]*10, ISS_distances[0]*10)\n",
    "    plt.xlim(-ISS_distances[0]*10, ISS_distances[0]*10)\n",
    "    plt.savefig(\"ISS_position\" + str(i).zfill(4) + \".png\")\n",
    "    plt.close()"
   ]
  },
  {
   "cell_type": "code",
   "execution_count": null,
   "id": "eab90c58-0abe-46d7-90a6-98502ce90153",
   "metadata": {},
   "outputs": [],
   "source": []
  }
 ],
 "metadata": {
  "kernelspec": {
   "display_name": "Python 3 (ipykernel)",
   "language": "python",
   "name": "python3"
  },
  "language_info": {
   "codemirror_mode": {
    "name": "ipython",
    "version": 3
   },
   "file_extension": ".py",
   "mimetype": "text/x-python",
   "name": "python",
   "nbconvert_exporter": "python",
   "pygments_lexer": "ipython3",
   "version": "3.10.12"
  }
 },
 "nbformat": 4,
 "nbformat_minor": 5
}
